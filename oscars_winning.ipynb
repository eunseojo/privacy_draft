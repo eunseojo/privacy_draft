{
 "cells": [
  {
   "cell_type": "code",
   "execution_count": 14,
   "metadata": {},
   "outputs": [],
   "source": [
    "import requests\n",
    "from bs4 import BeautifulSoup\n",
    "import sys\n"
   ]
  },
  {
   "cell_type": "code",
   "execution_count": 2,
   "metadata": {},
   "outputs": [
    {
     "data": {
      "text/plain": [
       "requests.models.Response"
      ]
     },
     "execution_count": 2,
     "metadata": {},
     "output_type": "execute_result"
    }
   ],
   "source": [
    "url = 'https://www.imdb.com/search/title/?groups=oscar_winner&sort=year,asc'\n",
    "response = requests.get(url)\n",
    "type(response)\n"
   ]
  },
  {
   "cell_type": "code",
   "execution_count": 3,
   "metadata": {},
   "outputs": [
    {
     "data": {
      "text/plain": [
       "200"
      ]
     },
     "execution_count": 3,
     "metadata": {},
     "output_type": "execute_result"
    }
   ],
   "source": [
    "response.status_code"
   ]
  },
  {
   "cell_type": "code",
   "execution_count": 4,
   "metadata": {},
   "outputs": [
    {
     "data": {
      "text/plain": [
       "400880"
      ]
     },
     "execution_count": 4,
     "metadata": {},
     "output_type": "execute_result"
    }
   ],
   "source": [
    "page_content = response.text\n",
    "len(page_content)"
   ]
  },
  {
   "cell_type": "code",
   "execution_count": 5,
   "metadata": {},
   "outputs": [
    {
     "data": {
      "text/plain": [
       "'\\n\\n<!DOCTYPE html>\\n<html\\n    xmlns:og=\"http://ogp.me/ns#\"\\n    xmlns:fb=\"http://www.facebook.com/2008/fbml\">\\n    <head>\\n         \\n\\n        <meta charset=\"utf-8\">\\n\\n\\n\\n\\n        <script type=\"text/javascript\">var IMDbTimer={starttime: new Date().getTime(),pt:\\'java\\'};</script>\\n\\n<script>\\n    if (typeof uet == \\'function\\') {\\n      uet(\"bb\", \"LoadTitle\", {wb: 1});\\n    }\\n</script>\\n  <script>(function(t){ (t.events = t.events || {})[\"csm_head_pre_title\"] = new Date().getTime(); })(IMDbTimer);</script>\\n      '"
      ]
     },
     "execution_count": 5,
     "metadata": {},
     "output_type": "execute_result"
    }
   ],
   "source": [
    "page_content[:500]"
   ]
  },
  {
   "cell_type": "code",
   "execution_count": 13,
   "metadata": {},
   "outputs": [],
   "source": [
    "with open('Oscar_winning_movie.html', 'w', encoding = 'utf-8') as f:\n",
    "    f.write(page_content)"
   ]
  },
  {
   "cell_type": "code",
   "execution_count": 7,
   "metadata": {},
   "outputs": [],
   "source": [
    "def fetch_page(page_url):\n",
    "    \"\"\"\n",
    "        This function takes page_url as argument and returns content of the page\n",
    "        and some other information as output. This function uses requests.get() method\n",
    "        for extracting the page content.\n",
    "    \"\"\"\n",
    "    # fetch the url and getting the response\n",
    "    response = requests.get(page_url)\n",
    "    # If status_code is 200 then we got proper data otherwise there somthing wrong\n",
    "    if response.status_code != 200:\n",
    "        raise Exception('Somthing went wrong while fetching the page')\n",
    "    return response.text"
   ]
  },
  {
   "cell_type": "markdown",
   "metadata": {},
   "source": [
    "from bs4 import BeautifulSoup"
   ]
  },
  {
   "cell_type": "code",
   "execution_count": 10,
   "metadata": {},
   "outputs": [],
   "source": [
    "from bs4 import BeautifulSoup"
   ]
  },
  {
   "cell_type": "code",
   "execution_count": 16,
   "metadata": {},
   "outputs": [],
   "source": [
    "with open('Oscar_winning_movie.html', 'r',encoding=\"utf-8\") as f:\n",
    "    html_content = f.read()"
   ]
  },
  {
   "cell_type": "code",
   "execution_count": 17,
   "metadata": {},
   "outputs": [
    {
     "data": {
      "text/plain": [
       "'\\n\\n<!DOCTYPE html>\\n<html\\n    xmlns:og=\"http://ogp.me/ns#\"\\n    xmlns:fb=\"http://www.facebook.com/2008/fbml\">\\n    <head>\\n         \\n\\n        <meta charset=\"utf-8\">\\n\\n\\n\\n\\n        <script type=\"text/javascript\">var IMDbTimer={starttime: new Date().getTime(),pt:\\'java\\'};</script>\\n\\n<script>\\n    if (typeof uet == \\'function\\') {\\n      uet(\"bb\", \"LoadTitle\", {wb: 1});\\n    }\\n</script>\\n  <script>(function(t){ (t.events = t.events || {})[\"csm_head_pre_title\"] = new Date().getTime(); })(IMDbTimer);</script>\\n        <title>Oscar-Winning\\n(Sorted by Year Ascending) - IMDb</title>\\n  <script>(function(t){ (t.events = t.events || {})[\"csm_head_post_title\"] = new Date().getTime(); })(IMDbTimer);</script>\\n<script>\\n    if (typeof uet == \\'function\\') {\\n      uet(\"be\", \"LoadTitle\", {wb: 1});\\n    }\\n</script>\\n<script>\\n    if (typeof uex == \\'function\\') {\\n      uex(\"ld\", \"LoadTitle\", {wb: 1});\\n    }\\n</script>\\n\\n        <link rel=\"canonical\" href=\"https://www.imdb.com/search/title/?groups=oscar_winner\" />\\n        <meta pr'"
      ]
     },
     "execution_count": 17,
     "metadata": {},
     "output_type": "execute_result"
    }
   ],
   "source": [
    "html_content[0:1000]\n"
   ]
  },
  {
   "cell_type": "code",
   "execution_count": 18,
   "metadata": {},
   "outputs": [
    {
     "name": "stderr",
     "output_type": "stream",
     "text": [
      "/Users/ezi/anaconda/lib/python3.5/site-packages/bs4/__init__.py:181: UserWarning: No parser was explicitly specified, so I'm using the best available HTML parser for this system (\"lxml\"). This usually isn't a problem, but if you run this code on another system, or in a different virtual environment, it may use a different parser and behave differently.\n",
      "\n",
      "The code that caused this warning is on line 184 of the file /Users/ezi/anaconda/lib/python3.5/runpy.py. To get rid of this warning, change code that looks like this:\n",
      "\n",
      " BeautifulSoup([your markup])\n",
      "\n",
      "to this:\n",
      "\n",
      " BeautifulSoup([your markup], \"lxml\")\n",
      "\n",
      "  markup_type=markup_type))\n"
     ]
    }
   ],
   "source": [
    "# doc = BeautifulSoup(html_content, 'html.parser')\n",
    "doc = BeautifulSoup(page_content)"
   ]
  },
  {
   "cell_type": "code",
   "execution_count": 19,
   "metadata": {},
   "outputs": [
    {
     "data": {
      "text/plain": [
       "<title>Oscar-Winning\n",
       "(Sorted by Year Ascending) - IMDb</title>"
      ]
     },
     "execution_count": 19,
     "metadata": {},
     "output_type": "execute_result"
    }
   ],
   "source": [
    "doc.title"
   ]
  },
  {
   "cell_type": "code",
   "execution_count": 20,
   "metadata": {},
   "outputs": [],
   "source": [
    "def get_doc(page_content):\n",
    "    \"\"\"\n",
    "        This function takes a HTML, XML page as a argument and \n",
    "        returns a BeautifulSoup document for this page.\n",
    "    \"\"\"\n",
    "    doc = BeautifulSoup(page_content)\n",
    "    return doc"
   ]
  },
  {
   "cell_type": "code",
   "execution_count": 21,
   "metadata": {},
   "outputs": [],
   "source": [
    "movie_items = doc.find_all('div', class_='lister-item mode-advanced')"
   ]
  },
  {
   "cell_type": "code",
   "execution_count": 22,
   "metadata": {},
   "outputs": [
    {
     "data": {
      "text/plain": [
       "50"
      ]
     },
     "execution_count": 22,
     "metadata": {},
     "output_type": "execute_result"
    }
   ],
   "source": [
    "len(movie_items)"
   ]
  },
  {
   "cell_type": "code",
   "execution_count": 23,
   "metadata": {},
   "outputs": [
    {
     "data": {
      "text/plain": [
       "bs4.element.ResultSet"
      ]
     },
     "execution_count": 23,
     "metadata": {},
     "output_type": "execute_result"
    }
   ],
   "source": [
    "type(movie_items)"
   ]
  },
  {
   "cell_type": "code",
   "execution_count": 24,
   "metadata": {},
   "outputs": [
    {
     "data": {
      "text/plain": [
       "<div class=\"lister-item mode-advanced\">\n",
       "<div class=\"lister-top-right\">\n",
       "<div class=\"ribbonize\" data-caller=\"filmosearch\" data-tconst=\"tt0017822\"></div>\n",
       "</div>\n",
       "<div class=\"lister-item-image float-left\">\n",
       "<a href=\"/title/tt0017822/\"> <img alt=\"The Dove\" class=\"loadlate\" data-tconst=\"tt0017822\" height=\"98\" loadlate=\"https://m.media-amazon.com/images/M/MV5BYzVlYjZiYjgtYTFkMS00YThmLTk5YmMtYjc5YTFjZjM3YzAwXkEyXkFqcGdeQXVyNjcwNzI5MTM@._V1_UX67_CR0,0,67,98_AL_.jpg\" src=\"https://m.media-amazon.com/images/S/sash/4FyxwxECzL-U1J8.png\" width=\"67\"/>\n",
       "</a> </div>\n",
       "<div class=\"lister-item-content\">\n",
       "<h3 class=\"lister-item-header\">\n",
       "<span class=\"lister-item-index unbold text-primary\">1.</span>\n",
       "<a href=\"/title/tt0017822/\">The Dove</a>\n",
       "<span class=\"lister-item-year text-muted unbold\">(1927)</span>\n",
       "</h3>\n",
       "<p class=\"text-muted \">\n",
       "<span class=\"runtime\">90 min</span>\n",
       "<span class=\"ghost\">|</span>\n",
       "<span class=\"genre\">\n",
       "Adventure, Drama, Romance            </span>\n",
       "</p>\n",
       "<div class=\"ratings-bar\">\n",
       "<div class=\"inline-block ratings-imdb-rating\" data-value=\"6.6\" name=\"ir\">\n",
       "<span class=\"global-sprite rating-star imdb-rating\"></span>\n",
       "<strong>6.6</strong>\n",
       "</div>\n",
       "<div class=\"inline-block ratings-user-rating\">\n",
       "<span class=\"userRatingValue\" data-tconst=\"tt0017822\" id=\"urv_tt0017822\">\n",
       "<span class=\"global-sprite rating-star no-rating\"></span>\n",
       "<span class=\"rate\" data-no-rating=\"Rate this\" data-value=\"0\" name=\"ur\">Rate this</span>\n",
       "</span>\n",
       "<div class=\"starBarWidget\" id=\"sb_tt0017822\">\n",
       "<div class=\"rating rating-list\" data-csrf-token=\"\" data-ga-identifier=\"\" data-starbar-class=\"rating-list\" data-user=\"\" id=\"tt0017822|imdb|6.6|6.6|adv_li_tt||advsearch|title\" itemprop=\"aggregateRating\" itemscope=\"\" itemtype=\"http://schema.org/AggregateRating\" title=\"Users rated this 6.6/10 (84 votes) - click stars to rate\">\n",
       "<meta content=\"6.6\" itemprop=\"ratingValue\"/>\n",
       "<meta content=\"10\" itemprop=\"bestRating\"/>\n",
       "<meta content=\"84\" itemprop=\"ratingCount\"/>\n",
       "<span class=\"rating-bg\"> </span>\n",
       "<span class=\"rating-imdb \" style=\"width: 92.4px\"> </span>\n",
       "<span class=\"rating-stars\">\n",
       "<a href=\"/register/login?why=vote\" rel=\"nofollow\" title=\"Register or login to rate this title\"><span>1</span></a>\n",
       "<a href=\"/register/login?why=vote\" rel=\"nofollow\" title=\"Register or login to rate this title\"><span>2</span></a>\n",
       "<a href=\"/register/login?why=vote\" rel=\"nofollow\" title=\"Register or login to rate this title\"><span>3</span></a>\n",
       "<a href=\"/register/login?why=vote\" rel=\"nofollow\" title=\"Register or login to rate this title\"><span>4</span></a>\n",
       "<a href=\"/register/login?why=vote\" rel=\"nofollow\" title=\"Register or login to rate this title\"><span>5</span></a>\n",
       "<a href=\"/register/login?why=vote\" rel=\"nofollow\" title=\"Register or login to rate this title\"><span>6</span></a>\n",
       "<a href=\"/register/login?why=vote\" rel=\"nofollow\" title=\"Register or login to rate this title\"><span>7</span></a>\n",
       "<a href=\"/register/login?why=vote\" rel=\"nofollow\" title=\"Register or login to rate this title\"><span>8</span></a>\n",
       "<a href=\"/register/login?why=vote\" rel=\"nofollow\" title=\"Register or login to rate this title\"><span>9</span></a>\n",
       "<a href=\"/register/login?why=vote\" rel=\"nofollow\" title=\"Register or login to rate this title\"><span>10</span></a>\n",
       "</span>\n",
       "<span class=\"rating-rating \"><span class=\"value\">6.6</span><span class=\"grey\">/</span><span class=\"grey\">10</span></span>\n",
       "<span class=\"rating-cancel \"><a href=\"/title/tt0017822/vote\" rel=\"nofollow\" title=\"Delete\"><span>X</span></a></span>\n",
       " </div>\n",
       "</div>\n",
       "</div>\n",
       "</div>\n",
       "<p class=\"text-muted\">\n",
       "A despot falls for a dancing girl. After she rejects him, he has her other beau framed for murder.</p>\n",
       "<p class=\"\">\n",
       "    Director:\n",
       "<a href=\"/name/nm0922327/\">Roland West</a>\n",
       "<span class=\"ghost\">|</span> \n",
       "    Stars:\n",
       "<a href=\"/name/nm0848232/\">Norma Talmadge</a>, \n",
       "<a href=\"/name/nm0001935/\">Noah Beery</a>, \n",
       "<a href=\"/name/nm0738042/\">Gilbert Roland</a>, \n",
       "<a href=\"/name/nm0096128/\">Eddie Borden</a>\n",
       "</p>\n",
       "<p class=\"sort-num_votes-visible\">\n",
       "<span class=\"text-muted\">Votes:</span>\n",
       "<span data-value=\"84\" name=\"nv\">84</span>\n",
       "</p>\n",
       "</div>\n",
       "</div>"
      ]
     },
     "execution_count": 24,
     "metadata": {},
     "output_type": "execute_result"
    }
   ],
   "source": [
    "movie_items[0]"
   ]
  },
  {
   "cell_type": "markdown",
   "metadata": {},
   "source": [
    "# 3.2\n"
   ]
  },
  {
   "cell_type": "code",
   "execution_count": 25,
   "metadata": {},
   "outputs": [
    {
     "data": {
      "text/plain": [
       "'https://m.media-amazon.com/images/M/MV5BYzVlYjZiYjgtYTFkMS00YThmLTk5YmMtYjc5YTFjZjM3YzAwXkEyXkFqcGdeQXVyNjcwNzI5MTM@._V1_UX67_CR0,0,67,98_AL_.jpg'"
      ]
     },
     "execution_count": 25,
     "metadata": {},
     "output_type": "execute_result"
    }
   ],
   "source": [
    "poster_url = movie_items[0].img['loadlate']\n",
    "poster_url"
   ]
  },
  {
   "cell_type": "code",
   "execution_count": 27,
   "metadata": {},
   "outputs": [
    {
     "data": {
      "text/plain": [
       "'90'"
      ]
     },
     "execution_count": 27,
     "metadata": {},
     "output_type": "execute_result"
    }
   ],
   "source": [
    "runtime = movie_items[0].find('span', class_ = 'runtime').text.split(\" \")[0]\n",
    "runtime"
   ]
  },
  {
   "cell_type": "code",
   "execution_count": 28,
   "metadata": {},
   "outputs": [
    {
     "data": {
      "text/plain": [
       "'6.6'"
      ]
     },
     "execution_count": 28,
     "metadata": {},
     "output_type": "execute_result"
    }
   ],
   "source": [
    "rating = movie_items[0].strong.text\n",
    "rating"
   ]
  },
  {
   "cell_type": "markdown",
   "metadata": {},
   "source": [
    "# genre"
   ]
  },
  {
   "cell_type": "code",
   "execution_count": 29,
   "metadata": {},
   "outputs": [
    {
     "data": {
      "text/plain": [
       "'Adventure Drama Romance '"
      ]
     },
     "execution_count": 29,
     "metadata": {},
     "output_type": "execute_result"
    }
   ],
   "source": [
    "genre = movie_items[0].find('span', class_ = 'genre').text.strip('\\n').split(',')\n",
    "movie_genre = ''\n",
    "for gen in genre:\n",
    "    movie_genre += '{} '.format(gen.strip(' '))\n",
    "movie_genre"
   ]
  },
  {
   "cell_type": "code",
   "execution_count": 30,
   "metadata": {},
   "outputs": [],
   "source": [
    "def find_genre(movie_item):\n",
    "    \"\"\"\n",
    "        This function takes HTML document form of a movie item and\n",
    "        extract Genre of the movie and return the genre.\n",
    "    \"\"\"\n",
    "    # find the genre, splitting and storing the list of genre\n",
    "    genre = movie_item.find('span', class_ = 'genre').text.strip('\\n').split(',')\n",
    "    movie_genre = ''\n",
    "    # converting the list of genre in string seperated by space\n",
    "    for gen in genre:\n",
    "        movie_genre += '{} '.format(gen.strip(' '))\n",
    "    return movie_genre"
   ]
  },
  {
   "cell_type": "code",
   "execution_count": 31,
   "metadata": {},
   "outputs": [
    {
     "data": {
      "text/plain": [
       "'Adventure Drama Romance '"
      ]
     },
     "execution_count": 31,
     "metadata": {},
     "output_type": "execute_result"
    }
   ],
   "source": [
    "find_genre(movie_items[0])"
   ]
  },
  {
   "cell_type": "markdown",
   "metadata": {},
   "source": [
    "## movie name & release year"
   ]
  },
  {
   "cell_type": "code",
   "execution_count": 34,
   "metadata": {},
   "outputs": [
    {
     "data": {
      "text/plain": [
       "<h3 class=\"lister-item-header\">\n",
       "<span class=\"lister-item-index unbold text-primary\">1.</span>\n",
       "<a href=\"/title/tt0017822/\">The Dove</a>\n",
       "<span class=\"lister-item-year text-muted unbold\">(1927)</span>\n",
       "</h3>"
      ]
     },
     "execution_count": 34,
     "metadata": {},
     "output_type": "execute_result"
    }
   ],
   "source": [
    "movie_items[0].find('h3')"
   ]
  },
  {
   "cell_type": "code",
   "execution_count": 35,
   "metadata": {},
   "outputs": [
    {
     "data": {
      "text/plain": [
       "<h3 class=\"lister-item-header\">\n",
       "<span class=\"lister-item-index unbold text-primary\">27.</span>\n",
       "<a href=\"/title/tt0021730/\">The Champ</a>\n",
       "<span class=\"lister-item-year text-muted unbold\">(I) (1931)</span>\n",
       "</h3>"
      ]
     },
     "execution_count": 35,
     "metadata": {},
     "output_type": "execute_result"
    }
   ],
   "source": [
    "movie_items[26].find('h3')"
   ]
  },
  {
   "cell_type": "code",
   "execution_count": 36,
   "metadata": {},
   "outputs": [
    {
     "data": {
      "text/plain": [
       "'The Champ'"
      ]
     },
     "execution_count": 36,
     "metadata": {},
     "output_type": "execute_result"
    }
   ],
   "source": [
    "movie_title = movie_items[26].find('h3')\n",
    "movie_title.a.text"
   ]
  },
  {
   "cell_type": "code",
   "execution_count": 37,
   "metadata": {},
   "outputs": [],
   "source": [
    "part_year = movie_items[26].find('h3').find('span', class_ = 'lister-item-year text-muted unbold').text.split(' ')\n",
    "parts = len(part_year)>1\n",
    "if(parts):\n",
    "    movie_title = movie_items[26].find('h3').a.text + \" \" + part_year[0][1:-1]\n",
    "    year = part_year[1][1:-1]\n",
    "else:\n",
    "    movie_title = movie_items[26].find('h3').a.text\n",
    "    year = part_year[0][1:-1]"
   ]
  },
  {
   "cell_type": "code",
   "execution_count": 38,
   "metadata": {},
   "outputs": [
    {
     "data": {
      "text/plain": [
       "('The Champ I', '1931')"
      ]
     },
     "execution_count": 38,
     "metadata": {},
     "output_type": "execute_result"
    }
   ],
   "source": [
    "movie_title, year"
   ]
  },
  {
   "cell_type": "code",
   "execution_count": 39,
   "metadata": {},
   "outputs": [],
   "source": [
    "def movie_title_and_year(doc):\n",
    "    \"\"\"\n",
    "        This function takes HTML document form of a movie item as input and \n",
    "        return the title and the release year of the movie.\n",
    "    \"\"\"\n",
    "    # Getting the parts and year from document\n",
    "    parts_year = doc.find('span', class_ = 'lister-item-year text-muted unbold').text.split(' ')\n",
    "    # Extracting the movie title\n",
    "    movie_title = doc.a.text\n",
    "    year = ''\n",
    "    if len(parts_year)>1:\n",
    "        # if the movie has parts then it concat part with movie title\n",
    "        title = movie_title + \" \" + parts_year[0][1:-1]\n",
    "        # extracting year from parts and year\n",
    "        year = parts_year[1][1:-1]\n",
    "    else:\n",
    "        # If the movie do not have parts then it simply give the movie title\n",
    "        title = movie_title\n",
    "        # extracting year from year and parts when movie do not have part\n",
    "        year = parts_year[0][1:-1]\n",
    "    return title, year"
   ]
  },
  {
   "cell_type": "code",
   "execution_count": 40,
   "metadata": {},
   "outputs": [
    {
     "data": {
      "text/plain": [
       "('The Champ I', '1931')"
      ]
     },
     "execution_count": 40,
     "metadata": {},
     "output_type": "execute_result"
    }
   ],
   "source": [
    "movie_h3 = movie_items[26].find('h3')\n",
    "movie_title_and_year(movie_h3)"
   ]
  },
  {
   "cell_type": "markdown",
   "metadata": {},
   "source": [
    "## ACTORS AND DIRECTORS"
   ]
  },
  {
   "cell_type": "code",
   "execution_count": 48,
   "metadata": {},
   "outputs": [
    {
     "data": {
      "text/plain": [
       "('90 min', '')"
      ]
     },
     "execution_count": 48,
     "metadata": {},
     "output_type": "execute_result"
    }
   ],
   "source": [
    "cast = movie_items[0].find('p', class_ = '')\n",
    "director = ''\n",
    "stars = ''\n",
    "if len(cast.text.split('|'))>1:\n",
    "    director = cast.text.split('|')[0].split(':')[-1].strip('\\n')\n",
    "    try:\n",
    "        star_list = cast.text.split('|')[1].split(':')[1].split(',')\n",
    "        for star in star_list:\n",
    "            stars += '\"{}\" '.format(star.strip(' ').strip('\\n'))\n",
    "    except IndexError:\n",
    "        b=0\n",
    "else:\n",
    "    star_list = cast.find_all('a')\n",
    "    for star in star_list:\n",
    "        stars += '\"{}\" '.format(star.text)\n",
    "director, stars"
   ]
  },
  {
   "cell_type": "code",
   "execution_count": 49,
   "metadata": {},
   "outputs": [],
   "source": [
    "# coding: utf-8\n",
    "def fetch_page(page_url):\n",
    "    \"\"\"\n",
    "        This function takes page_url as argument and returns content of the page\n",
    "        and some other information as output. This function uses requests.get() method\n",
    "        for extracting the page content.\n",
    "    \"\"\"\n",
    "    # fetch the url and getting the response\n",
    "    response = requests.get(page_url)\n",
    "    # If status_code is 200 then we got proper data otherwise there somthing wrong\n",
    "    if response.status_code != 200:\n",
    "        raise Exception('Somthing went wrong while fetching the page')\n",
    "    return response.text\n",
    "\n",
    "\n",
    "def get_doc(page_content):\n",
    "    \"\"\"\n",
    "        This function takes a HTML page as a argument and \n",
    "        returns a BeautifulSoup document for this page.\n",
    "    \"\"\"\n",
    "    doc = BeautifulSoup(page_content)\n",
    "    return doc\n",
    "\n",
    "\n",
    "def find_genre(movie_item):\n",
    "    \"\"\"\n",
    "        This function takes HTML document form of a movie item and\n",
    "        extract Genre of the movie and return the genre.\n",
    "    \"\"\"\n",
    "    # find the genre, splitting and storing the list of genre\n",
    "    genre = movie_item.find('span', class_ = 'genre').text.strip('\\n').split(',')\n",
    "    movie_genre = ''\n",
    "    # converting the list of genre in string seperated by space\n",
    "    for gen in genre:\n",
    "        movie_genre += '{} '.format(gen.strip(' '))\n",
    "    return movie_genre\n",
    "\n",
    "\n",
    "\n",
    "def movie_title_and_year(doc):\n",
    "    \"\"\"\n",
    "        This function takes HTML document form of a movie item as input and \n",
    "        return the title and the release year of the movie.\n",
    "    \"\"\"\n",
    "    # Getting the parts and year from document\n",
    "    parts_year = doc.find('span', class_ = 'lister-item-year text-muted unbold').text.split(' ')\n",
    "    # Extracting the movie title\n",
    "    movie_title = doc.a.text\n",
    "    year = ''\n",
    "    if len(parts_year)>1:\n",
    "        # if the movie has parts then it concat part with movie title\n",
    "        title = movie_title + \" \" + parts_year[0][1:-1]\n",
    "        # extracting year from parts and year\n",
    "        year = parts_year[1][1:-1]\n",
    "    else:\n",
    "        # If the movie do not have parts then it simply give the movie title\n",
    "        title = movie_title\n",
    "        # extracting year from year and parts when movie do not have part\n",
    "        year = parts_year[0][1:-1]\n",
    "    return title, year\n",
    "\n",
    "\n",
    "def director_and_actor(doc):\n",
    "    \"\"\"\n",
    "        This function take HTML document form of cast as input and extract director and actors of \n",
    "        the movie and return them.\n",
    "    \"\"\"\n",
    "    director = ''\n",
    "    stars = ''\n",
    "    if len(cast.text.split('|'))>1:\n",
    "        # Extracting director\n",
    "        director = cast.text.split('|')[0].split(':')[-1].strip('\\n')\n",
    "        # Extracting Actors\n",
    "        try:\n",
    "            star_list = cast.text.split('|')[1].split(':')[1].split(',')\n",
    "            for star in star_list:\n",
    "                stars += '\"{}\" '.format(star.strip(' ').strip('\\n'))\n",
    "        except:\n",
    "            b =0\n",
    "    else:\n",
    "        star_list = cast.find_all('a')\n",
    "        for star in star_list:\n",
    "            stars += '\"{}\" '.format(star.text)\n",
    "    return director, stars\n",
    "\n",
    "\n",
    "\n",
    "def finding_movie_data(movie_item):\n",
    "    \"\"\"\n",
    "        This function takes HTML document form of a movie item as input and \n",
    "        return a dictionary of data Movie Name, Runtime, Genre, Rating, Release Year, Actors, Director and poster.\n",
    "    \"\"\"\n",
    "    # Extracting poster\n",
    "    poster = movie_item.img['loadlate']\n",
    "    # getting movie title and  release year through calling function movie_title_and_year\n",
    "    title, year = movie_title_and_year(movie_item.find('h3'))\n",
    "    # Extracting movie runtime\n",
    "    runtime = 'None' if movie_item.find('span', class_ = 'runtime')==None else movie_item.find('span', class_ = 'runtime').text.split(\" \")[0]\n",
    "    # Getting genre of movie through calling function find_genre\n",
    "    genre = find_genre(movie_item)\n",
    "    # Extracting rating of movie\n",
    "    rating = 'None' if movie_item.strong == None else movie_item.strong.text\n",
    "    # getting director and actors of the movie through calling function director_and_actors\n",
    "    director, actors = director_and_actor(movie_item.find('p', class_ = ''))\n",
    "    # Returning a dictionary of movie data\n",
    "    return {\n",
    "        'Movie Name' : title,\n",
    "        'Runtime(in minutes)' : runtime,\n",
    "        'Genre' : genre,\n",
    "        'Rating' : rating,\n",
    "        'Release Year' : year,\n",
    "        'Actors' : actors,\n",
    "        'Director' : director,\n",
    "        'Poster' : poster\n",
    "    }\n",
    "\n",
    "\n",
    "def finding_movie_data_list(movie_items):\n",
    "    \"\"\"\n",
    "        This function takes list of HTML document form of a movie item as input and\n",
    "        return list of dictionaries which contain movie data.\n",
    "    \"\"\"\n",
    "    movie_data = []\n",
    "    for movie in movie_items:\n",
    "        movie_data.append(finding_movie_data(movie))\n",
    "    return movie_data\n",
    "\n",
    "\n",
    "def write_csv(movie_data_list, path):\n",
    "    \"\"\"\n",
    "        This function takes list of dictionaries of movie data and the path of csv file \n",
    "        and store the data into the csv file and return boolean value.\n",
    "    \"\"\"\n",
    "    # Open the file in write mode\n",
    "    with open(path, 'w') as f:\n",
    "        # Return if there's nothing to write\n",
    "        if len(movie_data_list) == 0:\n",
    "            return\n",
    "        # Write the headers in the first line\n",
    "        headers = list(movie_data_list[0].keys())\n",
    "        f.write(','.join(headers) + '\\n')\n",
    "        \n",
    "        # Write one item per line\n",
    "        for item in movie_data_list:\n",
    "            values = []\n",
    "            for header in headers:\n",
    "                values.append(str(item.get(header, \"\")))\n",
    "            f.write(','.join(values)+\"\\n\")\n",
    "        return True\n",
    "    return False"
   ]
  },
  {
   "cell_type": "code",
   "execution_count": 50,
   "metadata": {},
   "outputs": [],
   "source": [
    "def scrape_imdb(pages, path):\n",
    "    \"\"\"\n",
    "        This function takes url, number of pages, and the path of csv file and extract\n",
    "        movies data for given number of pages and store the data into csv file.\n",
    "    \"\"\"\n",
    "    \n",
    "    url = 'https://www.imdb.com/search/title/?title_type=feature&groups=oscar_winner&sort=year,asc'\n",
    "    movie_data_list = []\n",
    "   # Extracting the data for given number of pages\n",
    "    for page in range(pages):\n",
    "        # Preparing url for each page\n",
    "        url += '&start={}&ref_=adv_nxt'.format(1+page*50)\n",
    "        # getting the content of the page\n",
    "        page_content = fetch_page(url)\n",
    "        # getting a BeautifulSoup document\n",
    "        doc = get_doc(page_content)\n",
    "        # getting the all movie doc for the page \n",
    "        movie_items = doc.find_all('div', class_='lister-item mode-advanced')\n",
    "        # getting the movie data for the page\n",
    "        movie_data = finding_movie_data_list(movie_items)\n",
    "        # storing all the movie data for each page\n",
    "        movie_data_list += movie_data\n",
    "    # Now we find the movie data for all given number of pages and saving the data into the csv file.\n",
    "    status = write_csv(movie_data_list, path)\n",
    "    if(status):\n",
    "        print(\"Data extracted and written in csv file successfully...\")\n",
    "    else:\n",
    "        print(\"Somthing went wrong while writing data in csv.\")"
   ]
  },
  {
   "cell_type": "code",
   "execution_count": 51,
   "metadata": {},
   "outputs": [
    {
     "name": "stderr",
     "output_type": "stream",
     "text": [
      "/Users/ezi/anaconda/lib/python3.5/site-packages/bs4/__init__.py:181: UserWarning: No parser was explicitly specified, so I'm using the best available HTML parser for this system (\"lxml\"). This usually isn't a problem, but if you run this code on another system, or in a different virtual environment, it may use a different parser and behave differently.\n",
      "\n",
      "The code that caused this warning is on line 184 of the file /Users/ezi/anaconda/lib/python3.5/runpy.py. To get rid of this warning, change code that looks like this:\n",
      "\n",
      " BeautifulSoup([your markup])\n",
      "\n",
      "to this:\n",
      "\n",
      " BeautifulSoup([your markup], \"lxml\")\n",
      "\n",
      "  markup_type=markup_type))\n"
     ]
    },
    {
     "ename": "UnicodeEncodeError",
     "evalue": "'ascii' codec can't encode character '\\xe8' in position 184: ordinal not in range(128)",
     "output_type": "error",
     "traceback": [
      "\u001b[0;31m---------------------------------------------------------------------------\u001b[0m",
      "\u001b[0;31mUnicodeEncodeError\u001b[0m                        Traceback (most recent call last)",
      "\u001b[0;32m<ipython-input-51-35635eaf2ad0>\u001b[0m in \u001b[0;36m<module>\u001b[0;34m\u001b[0m\n\u001b[1;32m      1\u001b[0m \u001b[0;31m# Calling the scrape_imdb for 5 pages\u001b[0m\u001b[0;34m\u001b[0m\u001b[0;34m\u001b[0m\u001b[0m\n\u001b[0;32m----> 2\u001b[0;31m \u001b[0mscrape_imdb\u001b[0m\u001b[0;34m(\u001b[0m\u001b[0;36m5\u001b[0m\u001b[0;34m,\u001b[0m \u001b[0;34m'oscar_winner.csv'\u001b[0m\u001b[0;34m)\u001b[0m\u001b[0;34m\u001b[0m\u001b[0m\n\u001b[0m",
      "\u001b[0;32m<ipython-input-50-4e48e81a474b>\u001b[0m in \u001b[0;36mscrape_imdb\u001b[0;34m(pages, path)\u001b[0m\n\u001b[1;32m     22\u001b[0m         \u001b[0mmovie_data_list\u001b[0m \u001b[0;34m+=\u001b[0m \u001b[0mmovie_data\u001b[0m\u001b[0;34m\u001b[0m\u001b[0m\n\u001b[1;32m     23\u001b[0m     \u001b[0;31m# Now we find the movie data for all given number of pages and saving the data into the csv file.\u001b[0m\u001b[0;34m\u001b[0m\u001b[0;34m\u001b[0m\u001b[0m\n\u001b[0;32m---> 24\u001b[0;31m     \u001b[0mstatus\u001b[0m \u001b[0;34m=\u001b[0m \u001b[0mwrite_csv\u001b[0m\u001b[0;34m(\u001b[0m\u001b[0mmovie_data_list\u001b[0m\u001b[0;34m,\u001b[0m \u001b[0mpath\u001b[0m\u001b[0;34m)\u001b[0m\u001b[0;34m\u001b[0m\u001b[0m\n\u001b[0m\u001b[1;32m     25\u001b[0m     \u001b[0;32mif\u001b[0m\u001b[0;34m(\u001b[0m\u001b[0mstatus\u001b[0m\u001b[0;34m)\u001b[0m\u001b[0;34m:\u001b[0m\u001b[0;34m\u001b[0m\u001b[0m\n\u001b[1;32m     26\u001b[0m         \u001b[0mprint\u001b[0m\u001b[0;34m(\u001b[0m\u001b[0;34m\"Data extracted and written in csv file successfully...\"\u001b[0m\u001b[0;34m)\u001b[0m\u001b[0;34m\u001b[0m\u001b[0m\n",
      "\u001b[0;32m<ipython-input-49-b19b0a6dcb3c>\u001b[0m in \u001b[0;36mwrite_csv\u001b[0;34m(movie_data_list, path)\u001b[0m\n\u001b[1;32m    145\u001b[0m             \u001b[0;32mfor\u001b[0m \u001b[0mheader\u001b[0m \u001b[0;32min\u001b[0m \u001b[0mheaders\u001b[0m\u001b[0;34m:\u001b[0m\u001b[0;34m\u001b[0m\u001b[0m\n\u001b[1;32m    146\u001b[0m                 \u001b[0mvalues\u001b[0m\u001b[0;34m.\u001b[0m\u001b[0mappend\u001b[0m\u001b[0;34m(\u001b[0m\u001b[0mstr\u001b[0m\u001b[0;34m(\u001b[0m\u001b[0mitem\u001b[0m\u001b[0;34m.\u001b[0m\u001b[0mget\u001b[0m\u001b[0;34m(\u001b[0m\u001b[0mheader\u001b[0m\u001b[0;34m,\u001b[0m \u001b[0;34m\"\"\u001b[0m\u001b[0;34m)\u001b[0m\u001b[0;34m)\u001b[0m\u001b[0;34m)\u001b[0m\u001b[0;34m\u001b[0m\u001b[0m\n\u001b[0;32m--> 147\u001b[0;31m             \u001b[0mf\u001b[0m\u001b[0;34m.\u001b[0m\u001b[0mwrite\u001b[0m\u001b[0;34m(\u001b[0m\u001b[0;34m','\u001b[0m\u001b[0;34m.\u001b[0m\u001b[0mjoin\u001b[0m\u001b[0;34m(\u001b[0m\u001b[0mvalues\u001b[0m\u001b[0;34m)\u001b[0m\u001b[0;34m+\u001b[0m\u001b[0;34m\"\\n\"\u001b[0m\u001b[0;34m)\u001b[0m\u001b[0;34m\u001b[0m\u001b[0m\n\u001b[0m\u001b[1;32m    148\u001b[0m         \u001b[0;32mreturn\u001b[0m \u001b[0;32mTrue\u001b[0m\u001b[0;34m\u001b[0m\u001b[0m\n\u001b[1;32m    149\u001b[0m     \u001b[0;32mreturn\u001b[0m \u001b[0;32mFalse\u001b[0m\u001b[0;34m\u001b[0m\u001b[0m\n",
      "\u001b[0;31mUnicodeEncodeError\u001b[0m: 'ascii' codec can't encode character '\\xe8' in position 184: ordinal not in range(128)"
     ]
    }
   ],
   "source": [
    "# Calling the scrape_imdb for 5 pages\n",
    "scrape_imdb(5, 'oscar_winner.csv')"
   ]
  },
  {
   "cell_type": "markdown",
   "metadata": {},
   "source": []
  },
  {
   "cell_type": "code",
   "execution_count": 43,
   "metadata": {},
   "outputs": [
    {
     "ename": "IndexError",
     "evalue": "list index out of range",
     "output_type": "error",
     "traceback": [
      "\u001b[0;31m---------------------------------------------------------------------------\u001b[0m",
      "\u001b[0;31mIndexError\u001b[0m                                Traceback (most recent call last)",
      "\u001b[0;32m<ipython-input-43-48f25d8f47cd>\u001b[0m in \u001b[0;36m<module>\u001b[0;34m\u001b[0m\n\u001b[1;32m      1\u001b[0m \u001b[0mcast\u001b[0m \u001b[0;34m=\u001b[0m \u001b[0mmovie_items\u001b[0m\u001b[0;34m[\u001b[0m\u001b[0;36m0\u001b[0m\u001b[0;34m]\u001b[0m\u001b[0;34m.\u001b[0m\u001b[0mfind\u001b[0m\u001b[0;34m(\u001b[0m\u001b[0;34m'p'\u001b[0m\u001b[0;34m,\u001b[0m \u001b[0mclass_\u001b[0m \u001b[0;34m=\u001b[0m \u001b[0;34m''\u001b[0m\u001b[0;34m)\u001b[0m\u001b[0;34m\u001b[0m\u001b[0m\n\u001b[0;32m----> 2\u001b[0;31m \u001b[0mdirector_and_actor\u001b[0m\u001b[0;34m(\u001b[0m\u001b[0mcast\u001b[0m\u001b[0;34m)\u001b[0m\u001b[0;34m\u001b[0m\u001b[0m\n\u001b[0m",
      "\u001b[0;32m<ipython-input-42-2b47ff7e41cc>\u001b[0m in \u001b[0;36mdirector_and_actor\u001b[0;34m(doc)\u001b[0m\n\u001b[1;32m     10\u001b[0m         \u001b[0mdirector\u001b[0m \u001b[0;34m=\u001b[0m \u001b[0mcast\u001b[0m\u001b[0;34m.\u001b[0m\u001b[0mtext\u001b[0m\u001b[0;34m.\u001b[0m\u001b[0msplit\u001b[0m\u001b[0;34m(\u001b[0m\u001b[0;34m'|'\u001b[0m\u001b[0;34m)\u001b[0m\u001b[0;34m[\u001b[0m\u001b[0;36m0\u001b[0m\u001b[0;34m]\u001b[0m\u001b[0;34m.\u001b[0m\u001b[0msplit\u001b[0m\u001b[0;34m(\u001b[0m\u001b[0;34m':'\u001b[0m\u001b[0;34m)\u001b[0m\u001b[0;34m[\u001b[0m\u001b[0;34m-\u001b[0m\u001b[0;36m1\u001b[0m\u001b[0;34m]\u001b[0m\u001b[0;34m.\u001b[0m\u001b[0mstrip\u001b[0m\u001b[0;34m(\u001b[0m\u001b[0;34m'\\n'\u001b[0m\u001b[0;34m)\u001b[0m\u001b[0;34m\u001b[0m\u001b[0m\n\u001b[1;32m     11\u001b[0m         \u001b[0;31m# Extracting Actors\u001b[0m\u001b[0;34m\u001b[0m\u001b[0;34m\u001b[0m\u001b[0m\n\u001b[0;32m---> 12\u001b[0;31m         \u001b[0mstar_list\u001b[0m \u001b[0;34m=\u001b[0m \u001b[0mcast\u001b[0m\u001b[0;34m.\u001b[0m\u001b[0mtext\u001b[0m\u001b[0;34m.\u001b[0m\u001b[0msplit\u001b[0m\u001b[0;34m(\u001b[0m\u001b[0;34m'|'\u001b[0m\u001b[0;34m)\u001b[0m\u001b[0;34m[\u001b[0m\u001b[0;36m1\u001b[0m\u001b[0;34m]\u001b[0m\u001b[0;34m.\u001b[0m\u001b[0msplit\u001b[0m\u001b[0;34m(\u001b[0m\u001b[0;34m':'\u001b[0m\u001b[0;34m)\u001b[0m\u001b[0;34m[\u001b[0m\u001b[0;36m1\u001b[0m\u001b[0;34m]\u001b[0m\u001b[0;34m.\u001b[0m\u001b[0msplit\u001b[0m\u001b[0;34m(\u001b[0m\u001b[0;34m','\u001b[0m\u001b[0;34m)\u001b[0m\u001b[0;34m\u001b[0m\u001b[0m\n\u001b[0m\u001b[1;32m     13\u001b[0m         \u001b[0;32mfor\u001b[0m \u001b[0mstar\u001b[0m \u001b[0;32min\u001b[0m \u001b[0mstar_list\u001b[0m\u001b[0;34m:\u001b[0m\u001b[0;34m\u001b[0m\u001b[0m\n\u001b[1;32m     14\u001b[0m             \u001b[0mstars\u001b[0m \u001b[0;34m+=\u001b[0m \u001b[0;34m'\"{}\" '\u001b[0m\u001b[0;34m.\u001b[0m\u001b[0mformat\u001b[0m\u001b[0;34m(\u001b[0m\u001b[0mstar\u001b[0m\u001b[0;34m.\u001b[0m\u001b[0mstrip\u001b[0m\u001b[0;34m(\u001b[0m\u001b[0;34m' '\u001b[0m\u001b[0;34m)\u001b[0m\u001b[0;34m.\u001b[0m\u001b[0mstrip\u001b[0m\u001b[0;34m(\u001b[0m\u001b[0;34m'\\n'\u001b[0m\u001b[0;34m)\u001b[0m\u001b[0;34m)\u001b[0m\u001b[0;34m\u001b[0m\u001b[0m\n",
      "\u001b[0;31mIndexError\u001b[0m: list index out of range"
     ]
    }
   ],
   "source": [
    "cast = movie_items[0].find('p', class_ = '')\n",
    "director_and_actor(cast)"
   ]
  },
  {
   "cell_type": "code",
   "execution_count": null,
   "metadata": {},
   "outputs": [],
   "source": []
  }
 ],
 "metadata": {
  "kernelspec": {
   "display_name": "Python 3.5.2 ('base')",
   "language": "python",
   "name": "python3"
  },
  "language_info": {
   "codemirror_mode": {
    "name": "ipython",
    "version": 3
   },
   "file_extension": ".py",
   "mimetype": "text/x-python",
   "name": "python",
   "nbconvert_exporter": "python",
   "pygments_lexer": "ipython3",
   "version": "3.5.2"
  },
  "orig_nbformat": 4,
  "vscode": {
   "interpreter": {
    "hash": "ed2ea24d20523d1e1b3813bec1116f0d8070b04a9c5368d83933ef3a569d25ab"
   }
  }
 },
 "nbformat": 4,
 "nbformat_minor": 2
}
